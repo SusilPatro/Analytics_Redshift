{
 "cells": [
  {
   "cell_type": "markdown",
   "id": "5b07fa41",
   "metadata": {},
   "source": [
    "### PySpark ETL Code \n",
    "for to read data from HDFS, transform and create dimension and fact table to tore in S3 Bucket\n",
    "Steps followed:\n",
    "- Importing necessary libraries for Spark session and functions\n",
    "- Read the raw file to form a data frame from HDFS path where sqoop data ingestion generated the file\n",
    "- Created a schema using StructType (as per required target schema) \n",
    "- Read the file again using schema created. Validation for the count of data loaded.\n",
    "- All dimension dataframes are cleaned and transformed as per target dimesion model\n",
    "- Data frame for the fact table were enreached with id columns as reference to all the dimension tables (they are performed in stages)\n",
    "- Fact table fields are cleaned and transformed as per target data model\n",
    "- Loaded all dimension and fact table data into S3 bucket for further consumption by redshift for data analysis / analytical queries.\n"
   ]
  },
  {
   "cell_type": "code",
   "execution_count": 1,
   "id": "1d07b414",
   "metadata": {},
   "outputs": [
    {
     "data": {
      "application/vnd.jupyter.widget-view+json": {
       "model_id": "fd96c7db3ccb4fc1af1e21e3c5433c33",
       "version_major": 2,
       "version_minor": 0
      },
      "text/plain": [
       "VBox()"
      ]
     },
     "metadata": {},
     "output_type": "display_data"
    },
    {
     "name": "stdout",
     "output_type": "stream",
     "text": [
      "Starting Spark application\n"
     ]
    },
    {
     "data": {
      "text/html": [
       "<table>\n",
       "<tr><th>ID</th><th>YARN Application ID</th><th>Kind</th><th>State</th><th>Spark UI</th><th>Driver log</th><th>Current session?</th></tr><tr><td>0</td><td>application_1683435041541_0002</td><td>pyspark</td><td>idle</td><td><a target=\"_blank\" href=\"http://ip-172-31-69-44.ec2.internal:20888/proxy/application_1683435041541_0002/\">Link</a></td><td><a target=\"_blank\" href=\"http://ip-172-31-69-44.ec2.internal:8042/node/containerlogs/container_1683435041541_0002_01_000001/livy\">Link</a></td><td>✔</td></tr></table>"
      ],
      "text/plain": [
       "<IPython.core.display.HTML object>"
      ]
     },
     "metadata": {},
     "output_type": "display_data"
    },
    {
     "data": {
      "application/vnd.jupyter.widget-view+json": {
       "model_id": "",
       "version_major": 2,
       "version_minor": 0
      },
      "text/plain": [
       "FloatProgress(value=0.0, bar_style='info', description='Progress:', layout=Layout(height='25px', width='50%'),…"
      ]
     },
     "metadata": {},
     "output_type": "display_data"
    },
    {
     "name": "stdout",
     "output_type": "stream",
     "text": [
      "SparkSession available as 'spark'.\n"
     ]
    },
    {
     "data": {
      "application/vnd.jupyter.widget-view+json": {
       "model_id": "",
       "version_major": 2,
       "version_minor": 0
      },
      "text/plain": [
       "FloatProgress(value=0.0, bar_style='info', description='Progress:', layout=Layout(height='25px', width='50%'),…"
      ]
     },
     "metadata": {},
     "output_type": "display_data"
    }
   ],
   "source": [
    "#Importing necessary libraries for Spark session and functions\n",
    "from pyspark.sql import SparkSession\n",
    "from pyspark.sql.functions import *\n",
    "\n",
    "#Libraries needed for creating primary key columns with row number\n",
    "from pyspark.sql.types import *\n",
    "from pyspark.sql.window import Window\n",
    "import pyspark.sql.functions as F\n",
    "from pyspark.sql.functions import row_number"
   ]
  },
  {
   "cell_type": "code",
   "execution_count": 2,
   "id": "19080e26",
   "metadata": {},
   "outputs": [
    {
     "data": {
      "application/vnd.jupyter.widget-view+json": {
       "model_id": "7657c636038f467f94dc13bd7b8d3079",
       "version_major": 2,
       "version_minor": 0
      },
      "text/plain": [
       "VBox()"
      ]
     },
     "metadata": {},
     "output_type": "display_data"
    },
    {
     "data": {
      "application/vnd.jupyter.widget-view+json": {
       "model_id": "",
       "version_major": 2,
       "version_minor": 0
      },
      "text/plain": [
       "FloatProgress(value=0.0, bar_style='info', description='Progress:', layout=Layout(height='25px', width='50%'),…"
      ]
     },
     "metadata": {},
     "output_type": "display_data"
    }
   ],
   "source": [
    "#Creating Spark Context\n",
    "appName = \"Spar Nord Bank ATM Tranform\"\n",
    "master = \"local\"\n",
    "spark = SparkSession.builder.appName(appName).master(master).getOrCreate()"
   ]
  },
  {
   "cell_type": "markdown",
   "id": "db4b5e31",
   "metadata": {},
   "source": [
    "##### Loading data initially to verify if the file has proper data (sanity check)"
   ]
  },
  {
   "cell_type": "code",
   "execution_count": 3,
   "id": "ef38ff29",
   "metadata": {},
   "outputs": [
    {
     "data": {
      "application/vnd.jupyter.widget-view+json": {
       "model_id": "4ae80ee6cd844b8697342fa67f640360",
       "version_major": 2,
       "version_minor": 0
      },
      "text/plain": [
       "VBox()"
      ]
     },
     "metadata": {},
     "output_type": "display_data"
    },
    {
     "data": {
      "application/vnd.jupyter.widget-view+json": {
       "model_id": "",
       "version_major": 2,
       "version_minor": 0
      },
      "text/plain": [
       "FloatProgress(value=0.0, bar_style='info', description='Progress:', layout=Layout(height='25px', width='50%'),…"
      ]
     },
     "metadata": {},
     "output_type": "display_data"
    }
   ],
   "source": [
    "#Reading the data from the files in HDFS by a specific schema using PySpark\n",
    "## Using default schema first\n",
    "FileNamePath = \"/user/root/spar_nord_bank_atm/part-m-00000\"\n",
    "df = spark.read.csv(FileNamePath,header = False, inferSchema = True )"
   ]
  },
  {
   "cell_type": "code",
   "execution_count": 4,
   "id": "b173c386",
   "metadata": {},
   "outputs": [
    {
     "data": {
      "application/vnd.jupyter.widget-view+json": {
       "model_id": "ab141d8fd35e42be8078e48399a33a8d",
       "version_major": 2,
       "version_minor": 0
      },
      "text/plain": [
       "VBox()"
      ]
     },
     "metadata": {},
     "output_type": "display_data"
    },
    {
     "data": {
      "application/vnd.jupyter.widget-view+json": {
       "model_id": "",
       "version_major": 2,
       "version_minor": 0
      },
      "text/plain": [
       "FloatProgress(value=0.0, bar_style='info', description='Progress:', layout=Layout(height='25px', width='50%'),…"
      ]
     },
     "metadata": {},
     "output_type": "display_data"
    },
    {
     "name": "stdout",
     "output_type": "stream",
     "text": [
      "+----+-------+---+------+---+------+---+---+----------+-----------+----+----+------+------+----+----------+----+----------+----+----+-----+------+-------+--------+------+----+----+----+----+-----+----+----+----+----------+\n",
      "| _c0|    _c1|_c2|   _c3|_c4|   _c5|_c6|_c7|       _c8|        _c9|_c10|_c11|  _c12|  _c13|_c14|      _c15|_c16|      _c17|_c18|_c19| _c20|  _c21|   _c22|    _c23|  _c24|_c25|_c26|_c27|_c28| _c29|_c30|_c31|_c32|      _c33|\n",
      "+----+-------+---+------+---+------+---+---+----------+-----------+----+----+------+------+----+----------+----+----------+----+----+-----+------+-------+--------+------+----+----+----+----+-----+----+----+----+----------+\n",
      "|2017|January|  1|Sunday|  0|Active|  1|NCR|NÃƒÂ¦stved|Farimagsvej|   8|4700|55.233|11.763| DKK|MasterCard|5643|Withdrawal|null|null|55.23|11.761|2616038|Naestved|281.15|1014|  87|   7| 260|0.215|  92| 500|Rain|light rain|\n",
      "+----+-------+---+------+---+------+---+---+----------+-----------+----+----+------+------+----+----------+----+----------+----+----+-----+------+-------+--------+------+----+----+----+----+-----+----+----+----+----------+\n",
      "only showing top 1 row"
     ]
    }
   ],
   "source": [
    "#Checking data from default schema to check if data is loaded\n",
    "df.show(1)"
   ]
  },
  {
   "cell_type": "markdown",
   "id": "49258d3f",
   "metadata": {},
   "source": [
    "##### Creating StructType schema "
   ]
  },
  {
   "cell_type": "code",
   "execution_count": 5,
   "id": "93859f8b",
   "metadata": {},
   "outputs": [
    {
     "data": {
      "application/vnd.jupyter.widget-view+json": {
       "model_id": "9c33eab2114843fe9aec3899d7a3adad",
       "version_major": 2,
       "version_minor": 0
      },
      "text/plain": [
       "VBox()"
      ]
     },
     "metadata": {},
     "output_type": "display_data"
    },
    {
     "data": {
      "application/vnd.jupyter.widget-view+json": {
       "model_id": "",
       "version_major": 2,
       "version_minor": 0
      },
      "text/plain": [
       "FloatProgress(value=0.0, bar_style='info', description='Progress:', layout=Layout(height='25px', width='50%'),…"
      ]
     },
     "metadata": {},
     "output_type": "display_data"
    }
   ],
   "source": [
    "#Creating custom schema using the StructType class of PySpark (This will avoid data type mismatch)\n",
    "from pyspark.sql.types import StructType, StructField, IntegerType, StringType, BooleanType, DoubleType, LongType"
   ]
  },
  {
   "cell_type": "code",
   "execution_count": 6,
   "id": "c5c2548a",
   "metadata": {},
   "outputs": [
    {
     "data": {
      "application/vnd.jupyter.widget-view+json": {
       "model_id": "d6bb18fc02044e4788da3146b35ac340",
       "version_major": 2,
       "version_minor": 0
      },
      "text/plain": [
       "VBox()"
      ]
     },
     "metadata": {},
     "output_type": "display_data"
    },
    {
     "data": {
      "application/vnd.jupyter.widget-view+json": {
       "model_id": "",
       "version_major": 2,
       "version_minor": 0
      },
      "text/plain": [
       "FloatProgress(value=0.0, bar_style='info', description='Progress:', layout=Layout(height='25px', width='50%'),…"
      ]
     },
     "metadata": {},
     "output_type": "display_data"
    }
   ],
   "source": [
    "#Defining schema as per RDS Data \n",
    "Schema = StructType([StructField('year', IntegerType(), nullable = False),\n",
    "                        StructField('month', StringType(), False),\n",
    "                        StructField('day', IntegerType(), False),\n",
    "                        StructField('weekday', StringType(), False),\n",
    "                        StructField('hour', IntegerType(), False),\n",
    "                        StructField('atm_status', StringType(), False),\n",
    "                        StructField('atm_id', StringType(), False),  \n",
    "                        StructField('atm_manufacturer', StringType(), False),\n",
    "                        StructField('atm_location', StringType(), False),\n",
    "                        StructField('atm_streetname', StringType(), False),\n",
    "                        StructField('atm_street_number', IntegerType(), False),\n",
    "                        StructField('atm_zipcode', IntegerType(), False),\n",
    "                        StructField('atm_lat', DoubleType(), False),\n",
    "                        StructField('atm_lon', DoubleType(), False),\n",
    "                        StructField('currency', StringType(), False),\n",
    "                        StructField('card_type', StringType(), False),\n",
    "                        StructField('transaction_amount', IntegerType(), False),\n",
    "                        StructField('service', StringType(), False),\n",
    "                        StructField('message_code', StringType(), True),\n",
    "                        StructField('message_text', StringType(), True),\n",
    "                        StructField('weather_lat', DoubleType(), False),\n",
    "                        StructField('weather_lon', DoubleType(), False),\n",
    "                        StructField('weather_city_id', IntegerType(), False),\n",
    "                        StructField('weather_city_name', StringType(), False),\n",
    "                        StructField('temp', DoubleType(), False),\n",
    "                        StructField('pressure', IntegerType(), False),\n",
    "                        StructField('humidity', IntegerType(), False),\n",
    "                        StructField('wind_speed', IntegerType(), False),\n",
    "                        StructField('wind_deg', IntegerType(), False),\n",
    "                        StructField('rain_3h', DoubleType(), True),\n",
    "                        StructField('clouds_all', IntegerType(), False),\n",
    "                        StructField('weather_id', IntegerType(), False),\n",
    "                        StructField('weather_main', StringType(), False),\n",
    "                        StructField('weather_description', StringType(), False)])\n"
   ]
  },
  {
   "cell_type": "code",
   "execution_count": 7,
   "id": "ee5ebab9",
   "metadata": {},
   "outputs": [
    {
     "data": {
      "application/vnd.jupyter.widget-view+json": {
       "model_id": "8c59b7e053a04671934a99c5d5a4383f",
       "version_major": 2,
       "version_minor": 0
      },
      "text/plain": [
       "VBox()"
      ]
     },
     "metadata": {},
     "output_type": "display_data"
    },
    {
     "data": {
      "application/vnd.jupyter.widget-view+json": {
       "model_id": "",
       "version_major": 2,
       "version_minor": 0
      },
      "text/plain": [
       "FloatProgress(value=0.0, bar_style='info', description='Progress:', layout=Layout(height='25px', width='50%'),…"
      ]
     },
     "metadata": {},
     "output_type": "display_data"
    }
   ],
   "source": [
    "#Creating data frame for the dimension according to the target schema\n",
    "df = spark.read.csv(FileNamePath, header = False, schema = Schema)"
   ]
  },
  {
   "cell_type": "markdown",
   "id": "decfb8c6",
   "metadata": {},
   "source": [
    "##### Validating count after reading all atm information into data frame."
   ]
  },
  {
   "cell_type": "code",
   "execution_count": 8,
   "id": "317b5b0f",
   "metadata": {},
   "outputs": [
    {
     "data": {
      "application/vnd.jupyter.widget-view+json": {
       "model_id": "f5bb952490f34878928ec0f4e9284a91",
       "version_major": 2,
       "version_minor": 0
      },
      "text/plain": [
       "VBox()"
      ]
     },
     "metadata": {},
     "output_type": "display_data"
    },
    {
     "data": {
      "application/vnd.jupyter.widget-view+json": {
       "model_id": "",
       "version_major": 2,
       "version_minor": 0
      },
      "text/plain": [
       "FloatProgress(value=0.0, bar_style='info', description='Progress:', layout=Layout(height='25px', width='50%'),…"
      ]
     },
     "metadata": {},
     "output_type": "display_data"
    },
    {
     "name": "stdout",
     "output_type": "stream",
     "text": [
      "2468572"
     ]
    }
   ],
   "source": [
    "#Validation: Verifying the count of the records loaded into the Dataframe\n",
    "df.select('*').count()\n"
   ]
  },
  {
   "cell_type": "code",
   "execution_count": 10,
   "id": "8d9d7b50",
   "metadata": {},
   "outputs": [
    {
     "data": {
      "application/vnd.jupyter.widget-view+json": {
       "model_id": "0684534de0304a4882f6df690adc8089",
       "version_major": 2,
       "version_minor": 0
      },
      "text/plain": [
       "VBox()"
      ]
     },
     "metadata": {},
     "output_type": "display_data"
    },
    {
     "data": {
      "application/vnd.jupyter.widget-view+json": {
       "model_id": "",
       "version_major": 2,
       "version_minor": 0
      },
      "text/plain": [
       "FloatProgress(value=0.0, bar_style='info', description='Progress:', layout=Layout(height='25px', width='50%'),…"
      ]
     },
     "metadata": {},
     "output_type": "display_data"
    },
    {
     "name": "stdout",
     "output_type": "stream",
     "text": [
      "root\n",
      " |-- year: integer (nullable = true)\n",
      " |-- month: string (nullable = true)\n",
      " |-- day: integer (nullable = true)\n",
      " |-- weekday: string (nullable = true)\n",
      " |-- hour: integer (nullable = true)\n",
      " |-- atm_status: string (nullable = true)\n",
      " |-- atm_id: string (nullable = true)\n",
      " |-- atm_manufacturer: string (nullable = true)\n",
      " |-- atm_location: string (nullable = true)\n",
      " |-- atm_streetname: string (nullable = true)\n",
      " |-- atm_street_number: integer (nullable = true)\n",
      " |-- atm_zipcode: integer (nullable = true)\n",
      " |-- atm_lat: double (nullable = true)\n",
      " |-- atm_lon: double (nullable = true)\n",
      " |-- currency: string (nullable = true)\n",
      " |-- card_type: string (nullable = true)\n",
      " |-- transaction_amount: integer (nullable = true)\n",
      " |-- service: string (nullable = true)\n",
      " |-- message_code: string (nullable = true)\n",
      " |-- message_text: string (nullable = true)\n",
      " |-- weather_lat: double (nullable = true)\n",
      " |-- weather_lon: double (nullable = true)\n",
      " |-- weather_city_id: integer (nullable = true)\n",
      " |-- weather_city_name: string (nullable = true)\n",
      " |-- temp: double (nullable = true)\n",
      " |-- pressure: integer (nullable = true)\n",
      " |-- humidity: integer (nullable = true)\n",
      " |-- wind_speed: integer (nullable = true)\n",
      " |-- wind_deg: integer (nullable = true)\n",
      " |-- rain_3h: double (nullable = true)\n",
      " |-- clouds_all: integer (nullable = true)\n",
      " |-- weather_id: integer (nullable = true)\n",
      " |-- weather_main: string (nullable = true)\n",
      " |-- weather_description: string (nullable = true)"
     ]
    }
   ],
   "source": [
    "#Validation: Manual verification of schema (column names, data types, nullable and etc)\n",
    "df.printSchema()"
   ]
  },
  {
   "cell_type": "code",
   "execution_count": 11,
   "id": "12bad325",
   "metadata": {},
   "outputs": [
    {
     "data": {
      "application/vnd.jupyter.widget-view+json": {
       "model_id": "ac9b7c0b2aff40f595e60726c22757c7",
       "version_major": 2,
       "version_minor": 0
      },
      "text/plain": [
       "VBox()"
      ]
     },
     "metadata": {},
     "output_type": "display_data"
    },
    {
     "data": {
      "application/vnd.jupyter.widget-view+json": {
       "model_id": "",
       "version_major": 2,
       "version_minor": 0
      },
      "text/plain": [
       "FloatProgress(value=0.0, bar_style='info', description='Progress:', layout=Layout(height='25px', width='50%'),…"
      ]
     },
     "metadata": {},
     "output_type": "display_data"
    },
    {
     "name": "stdout",
     "output_type": "stream",
     "text": [
      "+----+-------+---+-------+----+----------+------+----------------+------------+--------------+-----------------+-----------+-------+-------+--------+----------+------------------+----------+------------+------------+-----------+-----------+---------------+-----------------+------+--------+--------+----------+--------+-------+----------+----------+------------+-------------------+\n",
      "|year|  month|day|weekday|hour|atm_status|atm_id|atm_manufacturer|atm_location|atm_streetname|atm_street_number|atm_zipcode|atm_lat|atm_lon|currency| card_type|transaction_amount|   service|message_code|message_text|weather_lat|weather_lon|weather_city_id|weather_city_name|  temp|pressure|humidity|wind_speed|wind_deg|rain_3h|clouds_all|weather_id|weather_main|weather_description|\n",
      "+----+-------+---+-------+----+----------+------+----------------+------------+--------------+-----------------+-----------+-------+-------+--------+----------+------------------+----------+------------+------------+-----------+-----------+---------------+-----------------+------+--------+--------+----------+--------+-------+----------+----------+------------+-------------------+\n",
      "|2017|January|  1| Sunday|   0|    Active|     1|             NCR|  NÃƒÂ¦stved|   Farimagsvej|                8|       4700| 55.233| 11.763|     DKK|MasterCard|              5643|Withdrawal|        null|        null|      55.23|     11.761|        2616038|         Naestved|281.15|    1014|      87|         7|     260|  0.215|        92|       500|        Rain|         light rain|\n",
      "+----+-------+---+-------+----+----------+------+----------------+------------+--------------+-----------------+-----------+-------+-------+--------+----------+------------------+----------+------------+------------+-----------+-----------+---------------+-----------------+------+--------+--------+----------+--------+-------+----------+----------+------------+-------------------+\n",
      "only showing top 1 row"
     ]
    }
   ],
   "source": [
    "#Sanity Check: Verify data loaded\n",
    "df.show(1)\n"
   ]
  },
  {
   "cell_type": "markdown",
   "id": "b01003c9",
   "metadata": {},
   "source": [
    "### Transformation: Dataframes for Dimension and Fact tables"
   ]
  },
  {
   "cell_type": "markdown",
   "id": "b872c673",
   "metadata": {},
   "source": [
    "#### Creating data frames for the dimension according to the target schema"
   ]
  },
  {
   "cell_type": "markdown",
   "id": "f157a1bb",
   "metadata": {},
   "source": [
    "#### 1. Clean Tranform data for date dimension:"
   ]
  },
  {
   "cell_type": "code",
   "execution_count": 12,
   "id": "b032d4d3",
   "metadata": {},
   "outputs": [
    {
     "data": {
      "application/vnd.jupyter.widget-view+json": {
       "model_id": "56fe04ad7de64f8babcf8df9800eae34",
       "version_major": 2,
       "version_minor": 0
      },
      "text/plain": [
       "VBox()"
      ]
     },
     "metadata": {},
     "output_type": "display_data"
    },
    {
     "data": {
      "application/vnd.jupyter.widget-view+json": {
       "model_id": "",
       "version_major": 2,
       "version_minor": 0
      },
      "text/plain": [
       "FloatProgress(value=0.0, bar_style='info', description='Progress:', layout=Layout(height='25px', width='50%'),…"
      ]
     },
     "metadata": {},
     "output_type": "display_data"
    }
   ],
   "source": [
    "#Load the unique date related fields for date dimension\n",
    "df_dim_date = df.dropDuplicates([\"year\",\"month\",\"day\",\"hour\",\"weekday\"]).select(\"year\",\"month\",\"day\",\"hour\",\"weekday\")"
   ]
  },
  {
   "cell_type": "code",
   "execution_count": 13,
   "id": "aa7f2ca7",
   "metadata": {},
   "outputs": [
    {
     "data": {
      "application/vnd.jupyter.widget-view+json": {
       "model_id": "ba6996fd26c2445f8af47efdd87bdbfe",
       "version_major": 2,
       "version_minor": 0
      },
      "text/plain": [
       "VBox()"
      ]
     },
     "metadata": {},
     "output_type": "display_data"
    },
    {
     "data": {
      "application/vnd.jupyter.widget-view+json": {
       "model_id": "",
       "version_major": 2,
       "version_minor": 0
      },
      "text/plain": [
       "FloatProgress(value=0.0, bar_style='info', description='Progress:', layout=Layout(height='25px', width='50%'),…"
      ]
     },
     "metadata": {},
     "output_type": "display_data"
    }
   ],
   "source": [
    "#derive full_date_time columns\n",
    "df_dim_date = df_dim_date.withColumn('full_date', concat_ws('-', df_dim_date.year, df_dim_date.month, df_dim_date.day))\n",
    "\n",
    "df_dim_date = df_dim_date.withColumn('full_time', concat_ws(':', df_dim_date.hour, lit('00'), lit('00')))\n",
    "df_dim_date = df_dim_date.withColumn('full_date_time', concat_ws(' ', df_dim_date.full_date, df_dim_date.full_time))\n",
    "\n",
    "pattern = 'yyyy-MMM-dd HH:mm:ss'\n",
    "df_dim_date = df_dim_date.withColumn('full_date_time', unix_timestamp(df_dim_date.full_date_time, pattern).cast('timestamp'))"
   ]
  },
  {
   "cell_type": "code",
   "execution_count": 14,
   "id": "efda0e8d",
   "metadata": {},
   "outputs": [
    {
     "data": {
      "application/vnd.jupyter.widget-view+json": {
       "model_id": "645a727a6e0a4274b7e8bf342109b031",
       "version_major": 2,
       "version_minor": 0
      },
      "text/plain": [
       "VBox()"
      ]
     },
     "metadata": {},
     "output_type": "display_data"
    },
    {
     "data": {
      "application/vnd.jupyter.widget-view+json": {
       "model_id": "",
       "version_major": 2,
       "version_minor": 0
      },
      "text/plain": [
       "FloatProgress(value=0.0, bar_style='info', description='Progress:', layout=Layout(height='25px', width='50%'),…"
      ]
     },
     "metadata": {},
     "output_type": "display_data"
    },
    {
     "name": "stdout",
     "output_type": "stream",
     "text": [
      "+----+-------+---+----+--------+---------------+---------+-------------------+\n",
      "|year|month  |day|hour|weekday |full_date      |full_time|full_date_time     |\n",
      "+----+-------+---+----+--------+---------------+---------+-------------------+\n",
      "|2017|January|5  |21  |Thursday|2017-January-5 |21:00:00 |2017-01-05 21:00:00|\n",
      "|2017|January|22 |15  |Sunday  |2017-January-22|15:00:00 |2017-01-22 15:00:00|\n",
      "|2017|April  |7  |9   |Friday  |2017-April-7   |9:00:00  |2017-04-07 09:00:00|\n",
      "|2017|January|23 |18  |Monday  |2017-January-23|18:00:00 |2017-01-23 18:00:00|\n",
      "|2017|March  |17 |1   |Friday  |2017-March-17  |1:00:00  |2017-03-17 01:00:00|\n",
      "+----+-------+---+----+--------+---------------+---------+-------------------+\n",
      "only showing top 5 rows"
     ]
    }
   ],
   "source": [
    "#Verify columns in date dimension:\n",
    "df_dim_date.show(5, truncate = False)"
   ]
  },
  {
   "cell_type": "code",
   "execution_count": 15,
   "id": "be9f3838",
   "metadata": {},
   "outputs": [
    {
     "data": {
      "application/vnd.jupyter.widget-view+json": {
       "model_id": "e792f6e4183d4ad0904bb886e6c0f739",
       "version_major": 2,
       "version_minor": 0
      },
      "text/plain": [
       "VBox()"
      ]
     },
     "metadata": {},
     "output_type": "display_data"
    },
    {
     "data": {
      "application/vnd.jupyter.widget-view+json": {
       "model_id": "",
       "version_major": 2,
       "version_minor": 0
      },
      "text/plain": [
       "FloatProgress(value=0.0, bar_style='info', description='Progress:', layout=Layout(height='25px', width='50%'),…"
      ]
     },
     "metadata": {},
     "output_type": "display_data"
    }
   ],
   "source": [
    "#Creating Primary key for date dimension\n",
    "df_dim_date_temp = df_dim_date.rdd.zipWithIndex().toDF()\n",
    "df_dim_date_final = df_dim_date_temp.select(col(\"_1.*\"),col(\"_2\").alias('date_id'))"
   ]
  },
  {
   "cell_type": "code",
   "execution_count": 16,
   "id": "b67c8e7e",
   "metadata": {},
   "outputs": [
    {
     "data": {
      "application/vnd.jupyter.widget-view+json": {
       "model_id": "9b223d7b90e14e9eb5c70eff67f32954",
       "version_major": 2,
       "version_minor": 0
      },
      "text/plain": [
       "VBox()"
      ]
     },
     "metadata": {},
     "output_type": "display_data"
    },
    {
     "data": {
      "application/vnd.jupyter.widget-view+json": {
       "model_id": "",
       "version_major": 2,
       "version_minor": 0
      },
      "text/plain": [
       "FloatProgress(value=0.0, bar_style='info', description='Progress:', layout=Layout(height='25px', width='50%'),…"
      ]
     },
     "metadata": {},
     "output_type": "display_data"
    }
   ],
   "source": [
    "# Rearranging the columns according to the target model\n",
    "df_dim_date_final = df_dim_date_final.select('date_id', 'full_date_time', 'year', 'month', 'day', 'hour', 'weekday')"
   ]
  },
  {
   "cell_type": "code",
   "execution_count": 17,
   "id": "14e63128",
   "metadata": {},
   "outputs": [
    {
     "data": {
      "application/vnd.jupyter.widget-view+json": {
       "model_id": "619a275f1dd24d5ea28bd2e801ab0015",
       "version_major": 2,
       "version_minor": 0
      },
      "text/plain": [
       "VBox()"
      ]
     },
     "metadata": {},
     "output_type": "display_data"
    },
    {
     "data": {
      "application/vnd.jupyter.widget-view+json": {
       "model_id": "",
       "version_major": 2,
       "version_minor": 0
      },
      "text/plain": [
       "FloatProgress(value=0.0, bar_style='info', description='Progress:', layout=Layout(height='25px', width='50%'),…"
      ]
     },
     "metadata": {},
     "output_type": "display_data"
    },
    {
     "name": "stdout",
     "output_type": "stream",
     "text": [
      "root\n",
      " |-- date_id: long (nullable = true)\n",
      " |-- full_date_time: timestamp (nullable = true)\n",
      " |-- year: long (nullable = true)\n",
      " |-- month: string (nullable = true)\n",
      " |-- day: long (nullable = true)\n",
      " |-- hour: long (nullable = true)\n",
      " |-- weekday: string (nullable = true)\n",
      "\n",
      "+-------+-------------------+----+-------+---+----+--------+\n",
      "|date_id|     full_date_time|year|  month|day|hour| weekday|\n",
      "+-------+-------------------+----+-------+---+----+--------+\n",
      "|      0|2017-01-05 21:00:00|2017|January|  5|  21|Thursday|\n",
      "+-------+-------------------+----+-------+---+----+--------+\n",
      "only showing top 1 row\n",
      "\n",
      "8685"
     ]
    }
   ],
   "source": [
    "# Validating date dimension table\n",
    "df_dim_date_final.printSchema() #verify schema of date dimension table\n",
    "df_dim_date_final.show(1) #sanity check for date dimension table\n",
    "\n",
    "#Validation: Verifying the count of the records loaded into the Dataframe\n",
    "df_dim_date_final.select('*').count()"
   ]
  },
  {
   "cell_type": "markdown",
   "id": "8eafd588",
   "metadata": {},
   "source": [
    "#### 2. Clean Tranform data for location dimension:"
   ]
  },
  {
   "cell_type": "code",
   "execution_count": 52,
   "id": "d7ccffa0",
   "metadata": {},
   "outputs": [
    {
     "data": {
      "application/vnd.jupyter.widget-view+json": {
       "model_id": "a76706c1bb2749d1b17f2e1b344db81d",
       "version_major": 2,
       "version_minor": 0
      },
      "text/plain": [
       "VBox()"
      ]
     },
     "metadata": {},
     "output_type": "display_data"
    },
    {
     "data": {
      "application/vnd.jupyter.widget-view+json": {
       "model_id": "",
       "version_major": 2,
       "version_minor": 0
      },
      "text/plain": [
       "FloatProgress(value=0.0, bar_style='info', description='Progress:', layout=Layout(height='25px', width='50%'),…"
      ]
     },
     "metadata": {},
     "output_type": "display_data"
    }
   ],
   "source": [
    "#Load the unique location related fields for location dimension\n",
    "df_dim_location = df.dropDuplicates([\"atm_location\", \"atm_streetname\",\"atm_street_number\", \"atm_zipcode\",\"atm_lat\", \"atm_lon\"]).select(\"atm_location\", \"atm_streetname\",\"atm_street_number\", \"atm_zipcode\",\"atm_lat\", \"atm_lon\")\n"
   ]
  },
  {
   "cell_type": "code",
   "execution_count": 53,
   "id": "7d2c1730",
   "metadata": {},
   "outputs": [
    {
     "data": {
      "application/vnd.jupyter.widget-view+json": {
       "model_id": "81aa6eb3393448ce824df31b35d9a858",
       "version_major": 2,
       "version_minor": 0
      },
      "text/plain": [
       "VBox()"
      ]
     },
     "metadata": {},
     "output_type": "display_data"
    },
    {
     "data": {
      "application/vnd.jupyter.widget-view+json": {
       "model_id": "",
       "version_major": 2,
       "version_minor": 0
      },
      "text/plain": [
       "FloatProgress(value=0.0, bar_style='info', description='Progress:', layout=Layout(height='25px', width='50%'),…"
      ]
     },
     "metadata": {},
     "output_type": "display_data"
    }
   ],
   "source": [
    "#Creating Primary key for location dimension\n",
    "df_dim_location_temp = df_dim_location.rdd.zipWithIndex().toDF()\n",
    "df_dim_location = df_dim_location_temp.select(col(\"_1.*\"),col(\"_2\").alias('atm_location_id'))\n"
   ]
  },
  {
   "cell_type": "code",
   "execution_count": 54,
   "id": "51c3129a",
   "metadata": {},
   "outputs": [
    {
     "data": {
      "application/vnd.jupyter.widget-view+json": {
       "model_id": "df202836fbac4ccc94a9db2de6f229fd",
       "version_major": 2,
       "version_minor": 0
      },
      "text/plain": [
       "VBox()"
      ]
     },
     "metadata": {},
     "output_type": "display_data"
    },
    {
     "data": {
      "application/vnd.jupyter.widget-view+json": {
       "model_id": "",
       "version_major": 2,
       "version_minor": 0
      },
      "text/plain": [
       "FloatProgress(value=0.0, bar_style='info', description='Progress:', layout=Layout(height='25px', width='50%'),…"
      ]
     },
     "metadata": {},
     "output_type": "display_data"
    }
   ],
   "source": [
    "#Renaming the columns as per target model\n",
    "df_dim_location_final = df_dim_location.withColumnRenamed('atm_location','location').withColumnRenamed('atm_streetname','streetname').withColumnRenamed('atm_street_number','street_number').withColumnRenamed('atm_zipcode','zipcode').withColumnRenamed('atm_lat','lat').withColumnRenamed('atm_lon','lon')\n"
   ]
  },
  {
   "cell_type": "code",
   "execution_count": 55,
   "id": "07efaf9b",
   "metadata": {},
   "outputs": [
    {
     "data": {
      "application/vnd.jupyter.widget-view+json": {
       "model_id": "58d6c1bfde06415a9c5d790a5926b5e4",
       "version_major": 2,
       "version_minor": 0
      },
      "text/plain": [
       "VBox()"
      ]
     },
     "metadata": {},
     "output_type": "display_data"
    },
    {
     "data": {
      "application/vnd.jupyter.widget-view+json": {
       "model_id": "",
       "version_major": 2,
       "version_minor": 0
      },
      "text/plain": [
       "FloatProgress(value=0.0, bar_style='info', description='Progress:', layout=Layout(height='25px', width='50%'),…"
      ]
     },
     "metadata": {},
     "output_type": "display_data"
    }
   ],
   "source": [
    "# Rearranging the columns according to the target model\n",
    "df_dim_location_final = df_dim_location_final.select('atm_location_id', 'location', 'streetname', 'street_number', 'zipcode', 'lat', 'lon')\n"
   ]
  },
  {
   "cell_type": "code",
   "execution_count": 56,
   "id": "972fc5b6",
   "metadata": {},
   "outputs": [
    {
     "data": {
      "application/vnd.jupyter.widget-view+json": {
       "model_id": "ea8d665a63064def88b6a08a32cb8048",
       "version_major": 2,
       "version_minor": 0
      },
      "text/plain": [
       "VBox()"
      ]
     },
     "metadata": {},
     "output_type": "display_data"
    },
    {
     "data": {
      "application/vnd.jupyter.widget-view+json": {
       "model_id": "",
       "version_major": 2,
       "version_minor": 0
      },
      "text/plain": [
       "FloatProgress(value=0.0, bar_style='info', description='Progress:', layout=Layout(height='25px', width='50%'),…"
      ]
     },
     "metadata": {},
     "output_type": "display_data"
    },
    {
     "name": "stdout",
     "output_type": "stream",
     "text": [
      "root\n",
      " |-- atm_location_id: long (nullable = true)\n",
      " |-- location: string (nullable = true)\n",
      " |-- streetname: string (nullable = true)\n",
      " |-- street_number: long (nullable = true)\n",
      " |-- zipcode: long (nullable = true)\n",
      " |-- lat: double (nullable = true)\n",
      " |-- lon: double (nullable = true)\n",
      "\n",
      "+---------------+--------+----------+-------------+-------+------+-----+\n",
      "|atm_location_id|location|streetname|street_number|zipcode|   lat|  lon|\n",
      "+---------------+--------+----------+-------------+-------+------+-----+\n",
      "|              0| Kolding|  Vejlevej|          135|   6000|55.505|9.457|\n",
      "+---------------+--------+----------+-------------+-------+------+-----+\n",
      "only showing top 1 row\n",
      "\n",
      "109"
     ]
    }
   ],
   "source": [
    "# Validating date dimension table\n",
    "#verify schema of location dimension table\n",
    "df_dim_location_final.printSchema() \n",
    "#sanity check for location dimension table\n",
    "df_dim_location_final.show(1) \n",
    "# validating the count of the dataframe\n",
    "df_dim_location_final.select('*').count()\n"
   ]
  },
  {
   "cell_type": "markdown",
   "id": "f8ef4f61",
   "metadata": {},
   "source": [
    "#### 3. Clean Tranform data for ATM dimension:"
   ]
  },
  {
   "cell_type": "code",
   "execution_count": 57,
   "id": "c40c84bf",
   "metadata": {},
   "outputs": [
    {
     "data": {
      "application/vnd.jupyter.widget-view+json": {
       "model_id": "a49ad430a9344a299387415968887fbe",
       "version_major": 2,
       "version_minor": 0
      },
      "text/plain": [
       "VBox()"
      ]
     },
     "metadata": {},
     "output_type": "display_data"
    },
    {
     "data": {
      "application/vnd.jupyter.widget-view+json": {
       "model_id": "",
       "version_major": 2,
       "version_minor": 0
      },
      "text/plain": [
       "FloatProgress(value=0.0, bar_style='info', description='Progress:', layout=Layout(height='25px', width='50%'),…"
      ]
     },
     "metadata": {},
     "output_type": "display_data"
    }
   ],
   "source": [
    "#Load the unique ATM related fields for ATM dimension\n",
    "df_dim_atm = df.dropDuplicates(['atm_id', 'atm_manufacturer', 'atm_location', 'atm_streetname','atm_street_number', 'atm_zipcode',  'atm_lat', 'atm_lon']).select('atm_id', 'atm_manufacturer', 'atm_location', 'atm_streetname','atm_street_number', 'atm_zipcode', 'atm_lat', 'atm_lon')"
   ]
  },
  {
   "cell_type": "code",
   "execution_count": 58,
   "id": "3c176a48",
   "metadata": {},
   "outputs": [
    {
     "data": {
      "application/vnd.jupyter.widget-view+json": {
       "model_id": "7f2e8ef358424c34911eb0cc48fd60b8",
       "version_major": 2,
       "version_minor": 0
      },
      "text/plain": [
       "VBox()"
      ]
     },
     "metadata": {},
     "output_type": "display_data"
    },
    {
     "data": {
      "application/vnd.jupyter.widget-view+json": {
       "model_id": "",
       "version_major": 2,
       "version_minor": 0
      },
      "text/plain": [
       "FloatProgress(value=0.0, bar_style='info', description='Progress:', layout=Layout(height='25px', width='50%'),…"
      ]
     },
     "metadata": {},
     "output_type": "display_data"
    }
   ],
   "source": [
    "#Get location id from latitude and longitude\n",
    "df_dim_atm = df_dim_atm.join(df_dim_location, on = ['atm_location', 'atm_streetname','atm_street_number', 'atm_zipcode', 'atm_lat', 'atm_lon'], how = \"left\").select('atm_id', 'atm_manufacturer', 'atm_location_id')\n",
    "df_dim_atm = df_dim_atm.withColumnRenamed('atm_id', 'atm_number')"
   ]
  },
  {
   "cell_type": "code",
   "execution_count": 59,
   "id": "fe356312",
   "metadata": {},
   "outputs": [
    {
     "data": {
      "application/vnd.jupyter.widget-view+json": {
       "model_id": "12a5034a492f4567b4894951fe320ccc",
       "version_major": 2,
       "version_minor": 0
      },
      "text/plain": [
       "VBox()"
      ]
     },
     "metadata": {},
     "output_type": "display_data"
    },
    {
     "data": {
      "application/vnd.jupyter.widget-view+json": {
       "model_id": "",
       "version_major": 2,
       "version_minor": 0
      },
      "text/plain": [
       "FloatProgress(value=0.0, bar_style='info', description='Progress:', layout=Layout(height='25px', width='50%'),…"
      ]
     },
     "metadata": {},
     "output_type": "display_data"
    }
   ],
   "source": [
    "#Creating Primary key for location dimension\n",
    "df_dim_atm_temp = df_dim_atm.rdd.zipWithIndex().toDF()\n",
    "df_dim_atm = df_dim_atm_temp.select(col(\"_1.*\"),col(\"_2\").alias('atm_id'))"
   ]
  },
  {
   "cell_type": "code",
   "execution_count": 60,
   "id": "5aff7d6e",
   "metadata": {},
   "outputs": [
    {
     "data": {
      "application/vnd.jupyter.widget-view+json": {
       "model_id": "b13eb21f65404170bf3f270abe01f913",
       "version_major": 2,
       "version_minor": 0
      },
      "text/plain": [
       "VBox()"
      ]
     },
     "metadata": {},
     "output_type": "display_data"
    },
    {
     "data": {
      "application/vnd.jupyter.widget-view+json": {
       "model_id": "",
       "version_major": 2,
       "version_minor": 0
      },
      "text/plain": [
       "FloatProgress(value=0.0, bar_style='info', description='Progress:', layout=Layout(height='25px', width='50%'),…"
      ]
     },
     "metadata": {},
     "output_type": "display_data"
    }
   ],
   "source": [
    "# rearranging the columns according to the target model\n",
    "df_dim_atm_final = df_dim_atm.select('atm_id', 'atm_number', 'atm_manufacturer', 'atm_location_id')"
   ]
  },
  {
   "cell_type": "code",
   "execution_count": 61,
   "id": "aaab9d89",
   "metadata": {},
   "outputs": [
    {
     "data": {
      "application/vnd.jupyter.widget-view+json": {
       "model_id": "1d257e1400aa43b297487dfe03f38421",
       "version_major": 2,
       "version_minor": 0
      },
      "text/plain": [
       "VBox()"
      ]
     },
     "metadata": {},
     "output_type": "display_data"
    },
    {
     "data": {
      "application/vnd.jupyter.widget-view+json": {
       "model_id": "",
       "version_major": 2,
       "version_minor": 0
      },
      "text/plain": [
       "FloatProgress(value=0.0, bar_style='info', description='Progress:', layout=Layout(height='25px', width='50%'),…"
      ]
     },
     "metadata": {},
     "output_type": "display_data"
    },
    {
     "name": "stdout",
     "output_type": "stream",
     "text": [
      "root\n",
      " |-- atm_id: long (nullable = true)\n",
      " |-- atm_number: string (nullable = true)\n",
      " |-- atm_manufacturer: string (nullable = true)\n",
      " |-- atm_location_id: long (nullable = true)\n",
      "\n",
      "+------+----------+----------------+---------------+\n",
      "|atm_id|atm_number|atm_manufacturer|atm_location_id|\n",
      "+------+----------+----------------+---------------+\n",
      "|     0|        59| Diebold Nixdorf|             57|\n",
      "+------+----------+----------------+---------------+\n",
      "only showing top 1 row\n",
      "\n",
      "113"
     ]
    }
   ],
   "source": [
    "# Validating atm dimension table\n",
    "#verify schema of atm dimension table\n",
    "df_dim_atm_final.printSchema() \n",
    "#sanity check for atm dimension table\n",
    "df_dim_atm_final.show(1) \n",
    "# validating the count of the dataframe\n",
    "df_dim_atm_final.select('*').count()\n"
   ]
  },
  {
   "cell_type": "markdown",
   "id": "05bfd565",
   "metadata": {},
   "source": [
    "#### 4. Clean Tranform data for Card Type dimension:"
   ]
  },
  {
   "cell_type": "code",
   "execution_count": 62,
   "id": "71f13c9c",
   "metadata": {},
   "outputs": [
    {
     "data": {
      "application/vnd.jupyter.widget-view+json": {
       "model_id": "cb592c64af29425eabc6b588f443804a",
       "version_major": 2,
       "version_minor": 0
      },
      "text/plain": [
       "VBox()"
      ]
     },
     "metadata": {},
     "output_type": "display_data"
    },
    {
     "data": {
      "application/vnd.jupyter.widget-view+json": {
       "model_id": "",
       "version_major": 2,
       "version_minor": 0
      },
      "text/plain": [
       "FloatProgress(value=0.0, bar_style='info', description='Progress:', layout=Layout(height='25px', width='50%'),…"
      ]
     },
     "metadata": {},
     "output_type": "display_data"
    }
   ],
   "source": [
    "#Load the unique card type dimension values\n",
    "df_dim_card_type = df.dropDuplicates([\"card_type\"]).select(\"card_type\")"
   ]
  },
  {
   "cell_type": "code",
   "execution_count": 63,
   "id": "ca398bca",
   "metadata": {},
   "outputs": [
    {
     "data": {
      "application/vnd.jupyter.widget-view+json": {
       "model_id": "9694d17f42254bc0afbca05a420c49db",
       "version_major": 2,
       "version_minor": 0
      },
      "text/plain": [
       "VBox()"
      ]
     },
     "metadata": {},
     "output_type": "display_data"
    },
    {
     "data": {
      "application/vnd.jupyter.widget-view+json": {
       "model_id": "",
       "version_major": 2,
       "version_minor": 0
      },
      "text/plain": [
       "FloatProgress(value=0.0, bar_style='info', description='Progress:', layout=Layout(height='25px', width='50%'),…"
      ]
     },
     "metadata": {},
     "output_type": "display_data"
    }
   ],
   "source": [
    "#Creating Primary key for location dimension\n",
    "df_dim_card_type_temp = df_dim_card_type.rdd.zipWithIndex().toDF()\n",
    "df_dim_card_type = df_dim_card_type_temp.select(col(\"_1.*\"),col(\"_2\").alias('card_type_id'))"
   ]
  },
  {
   "cell_type": "code",
   "execution_count": 64,
   "id": "5624f9de",
   "metadata": {},
   "outputs": [
    {
     "data": {
      "application/vnd.jupyter.widget-view+json": {
       "model_id": "2208e91005334049a55c89fc4bff7627",
       "version_major": 2,
       "version_minor": 0
      },
      "text/plain": [
       "VBox()"
      ]
     },
     "metadata": {},
     "output_type": "display_data"
    },
    {
     "data": {
      "application/vnd.jupyter.widget-view+json": {
       "model_id": "",
       "version_major": 2,
       "version_minor": 0
      },
      "text/plain": [
       "FloatProgress(value=0.0, bar_style='info', description='Progress:', layout=Layout(height='25px', width='50%'),…"
      ]
     },
     "metadata": {},
     "output_type": "display_data"
    }
   ],
   "source": [
    "# rearranging the columns according to the target model\n",
    "df_dim_card_type_final = df_dim_card_type.select('card_type_id', 'card_type')"
   ]
  },
  {
   "cell_type": "code",
   "execution_count": 65,
   "id": "3777470f",
   "metadata": {},
   "outputs": [
    {
     "data": {
      "application/vnd.jupyter.widget-view+json": {
       "model_id": "b6d3e52fcb504c7a8c5ec7d002667fb8",
       "version_major": 2,
       "version_minor": 0
      },
      "text/plain": [
       "VBox()"
      ]
     },
     "metadata": {},
     "output_type": "display_data"
    },
    {
     "data": {
      "application/vnd.jupyter.widget-view+json": {
       "model_id": "",
       "version_major": 2,
       "version_minor": 0
      },
      "text/plain": [
       "FloatProgress(value=0.0, bar_style='info', description='Progress:', layout=Layout(height='25px', width='50%'),…"
      ]
     },
     "metadata": {},
     "output_type": "display_data"
    },
    {
     "name": "stdout",
     "output_type": "stream",
     "text": [
      "root\n",
      " |-- card_type_id: long (nullable = true)\n",
      " |-- card_type: string (nullable = true)\n",
      "\n",
      "+------------+--------------------+\n",
      "|card_type_id|           card_type|\n",
      "+------------+--------------------+\n",
      "|           0|Visa Dankort - on-us|\n",
      "+------------+--------------------+\n",
      "only showing top 1 row\n",
      "\n",
      "12"
     ]
    }
   ],
   "source": [
    "# Validating card type dimension table\n",
    "#verify schema of card type dimension table\n",
    "df_dim_card_type_final.printSchema() \n",
    "#sanity check for atm dimension table\n",
    "df_dim_card_type_final.show(1) \n",
    "# validating the count of the card_type dataframe\n",
    "df_dim_card_type_final.select('*').count()"
   ]
  },
  {
   "cell_type": "markdown",
   "id": "e25267a0",
   "metadata": {},
   "source": [
    "### Joining transaction data frame with each dimension table for creating references. \n",
    "This is done in stages."
   ]
  },
  {
   "cell_type": "markdown",
   "id": "44b22fc3",
   "metadata": {},
   "source": [
    "#### 5. Stage 1 - Clean Tranform data for location fact:"
   ]
  },
  {
   "cell_type": "markdown",
   "id": "ead1b7c8",
   "metadata": {},
   "source": [
    "#### Creating the Transaction Fact Table according to Target Model"
   ]
  },
  {
   "cell_type": "code",
   "execution_count": 66,
   "id": "aa6cb0f2",
   "metadata": {},
   "outputs": [
    {
     "data": {
      "application/vnd.jupyter.widget-view+json": {
       "model_id": "7e64559f13b946e29f96b363e54ae71e",
       "version_major": 2,
       "version_minor": 0
      },
      "text/plain": [
       "VBox()"
      ]
     },
     "metadata": {},
     "output_type": "display_data"
    },
    {
     "data": {
      "application/vnd.jupyter.widget-view+json": {
       "model_id": "",
       "version_major": 2,
       "version_minor": 0
      },
      "text/plain": [
       "FloatProgress(value=0.0, bar_style='info', description='Progress:', layout=Layout(height='25px', width='50%'),…"
      ]
     },
     "metadata": {},
     "output_type": "display_data"
    }
   ],
   "source": [
    "# Renaming location fact for the colums as per requirement\n",
    "df_fact_loc = df.withColumnRenamed('atm_location','location').withColumnRenamed('atm_streetname','streetname').withColumnRenamed('atm_street_number','street_number').withColumnRenamed('atm_zipcode','zipcode').withColumnRenamed('atm_lat','lat').withColumnRenamed('atm_lon','lon')"
   ]
  },
  {
   "cell_type": "code",
   "execution_count": 67,
   "id": "38ca54cd",
   "metadata": {},
   "outputs": [
    {
     "data": {
      "application/vnd.jupyter.widget-view+json": {
       "model_id": "acabed059c6a4f0a8867807232cd95a7",
       "version_major": 2,
       "version_minor": 0
      },
      "text/plain": [
       "VBox()"
      ]
     },
     "metadata": {},
     "output_type": "display_data"
    },
    {
     "data": {
      "application/vnd.jupyter.widget-view+json": {
       "model_id": "",
       "version_major": 2,
       "version_minor": 0
      },
      "text/plain": [
       "FloatProgress(value=0.0, bar_style='info', description='Progress:', layout=Layout(height='25px', width='50%'),…"
      ]
     },
     "metadata": {},
     "output_type": "display_data"
    }
   ],
   "source": [
    "# joining the dfs - dimension and fact for location\n",
    "df_fact_loc = df_fact_loc.join(df_dim_location_final, on = ['location', 'streetname', 'street_number', 'zipcode', 'lat', 'lon'], how = \"left\")\n",
    "df_fact_loc = df_fact_loc.withColumnRenamed('atm_id','atm_number')"
   ]
  },
  {
   "cell_type": "markdown",
   "id": "685e80e6",
   "metadata": {},
   "source": [
    "#### 6. Stage 2 - Clean Tranform data for atm fact:"
   ]
  },
  {
   "cell_type": "code",
   "execution_count": 68,
   "id": "90c89b33",
   "metadata": {},
   "outputs": [
    {
     "data": {
      "application/vnd.jupyter.widget-view+json": {
       "model_id": "0baba68e8a2e4c33994df66a458f96a4",
       "version_major": 2,
       "version_minor": 0
      },
      "text/plain": [
       "VBox()"
      ]
     },
     "metadata": {},
     "output_type": "display_data"
    },
    {
     "data": {
      "application/vnd.jupyter.widget-view+json": {
       "model_id": "",
       "version_major": 2,
       "version_minor": 0
      },
      "text/plain": [
       "FloatProgress(value=0.0, bar_style='info', description='Progress:', layout=Layout(height='25px', width='50%'),…"
      ]
     },
     "metadata": {},
     "output_type": "display_data"
    }
   ],
   "source": [
    "# joining the dfs - dimension and fact for atm\n",
    "df_fact_atm = df_fact_loc.join(df_dim_atm_final, on = ['atm_number', 'atm_manufacturer', 'atm_location_id'], how = \"left\")"
   ]
  },
  {
   "cell_type": "code",
   "execution_count": 69,
   "id": "35dae497",
   "metadata": {},
   "outputs": [
    {
     "data": {
      "application/vnd.jupyter.widget-view+json": {
       "model_id": "b240799f48c1480cbe262fcaf1ef006a",
       "version_major": 2,
       "version_minor": 0
      },
      "text/plain": [
       "VBox()"
      ]
     },
     "metadata": {},
     "output_type": "display_data"
    },
    {
     "data": {
      "application/vnd.jupyter.widget-view+json": {
       "model_id": "",
       "version_major": 2,
       "version_minor": 0
      },
      "text/plain": [
       "FloatProgress(value=0.0, bar_style='info', description='Progress:', layout=Layout(height='25px', width='50%'),…"
      ]
     },
     "metadata": {},
     "output_type": "display_data"
    }
   ],
   "source": [
    "# performing necessary transformations, for target data model\n",
    "df_fact_atm = df_fact_atm.withColumnRenamed('atm_location_id', 'weather_loc_id')"
   ]
  },
  {
   "cell_type": "markdown",
   "id": "ad26913d",
   "metadata": {},
   "source": [
    "#### 7.Stage 3:  Clean Tranform data for date fact:\n"
   ]
  },
  {
   "cell_type": "code",
   "execution_count": 70,
   "id": "42ee4b6f",
   "metadata": {},
   "outputs": [
    {
     "data": {
      "application/vnd.jupyter.widget-view+json": {
       "model_id": "5cc6c89494dc4460b5736be9fc00b5aa",
       "version_major": 2,
       "version_minor": 0
      },
      "text/plain": [
       "VBox()"
      ]
     },
     "metadata": {},
     "output_type": "display_data"
    },
    {
     "data": {
      "application/vnd.jupyter.widget-view+json": {
       "model_id": "",
       "version_major": 2,
       "version_minor": 0
      },
      "text/plain": [
       "FloatProgress(value=0.0, bar_style='info', description='Progress:', layout=Layout(height='25px', width='50%'),…"
      ]
     },
     "metadata": {},
     "output_type": "display_data"
    }
   ],
   "source": [
    "# joining the dfs - dimension and fact for date\n",
    "df_fact_date = df_fact_atm.join(df_dim_date_final, on = ['year', 'month', 'day', 'hour', 'weekday'], how = \"left\")"
   ]
  },
  {
   "cell_type": "markdown",
   "id": "ffeccdad",
   "metadata": {},
   "source": [
    "#### 8. Stage 4: Clean Tranform data for card type fact:"
   ]
  },
  {
   "cell_type": "code",
   "execution_count": 71,
   "id": "83f45589",
   "metadata": {},
   "outputs": [
    {
     "data": {
      "application/vnd.jupyter.widget-view+json": {
       "model_id": "bbd091ba989b4fda891cbf652faf0d12",
       "version_major": 2,
       "version_minor": 0
      },
      "text/plain": [
       "VBox()"
      ]
     },
     "metadata": {},
     "output_type": "display_data"
    },
    {
     "data": {
      "application/vnd.jupyter.widget-view+json": {
       "model_id": "",
       "version_major": 2,
       "version_minor": 0
      },
      "text/plain": [
       "FloatProgress(value=0.0, bar_style='info', description='Progress:', layout=Layout(height='25px', width='50%'),…"
      ]
     },
     "metadata": {},
     "output_type": "display_data"
    }
   ],
   "source": [
    "# joining the dfs - dimension and fact for card type\n",
    "df_fact_card_type = df_fact_date.join(df_dim_card_type_final, on = ['card_type'], how = \"left\")"
   ]
  },
  {
   "cell_type": "markdown",
   "id": "ef0074bd",
   "metadata": {},
   "source": [
    "##### Validation of data frame for transaction fact "
   ]
  },
  {
   "cell_type": "code",
   "execution_count": 72,
   "id": "3a64de50",
   "metadata": {},
   "outputs": [
    {
     "data": {
      "application/vnd.jupyter.widget-view+json": {
       "model_id": "8e795bf033b643bba377e228ecea0e50",
       "version_major": 2,
       "version_minor": 0
      },
      "text/plain": [
       "VBox()"
      ]
     },
     "metadata": {},
     "output_type": "display_data"
    },
    {
     "data": {
      "application/vnd.jupyter.widget-view+json": {
       "model_id": "",
       "version_major": 2,
       "version_minor": 0
      },
      "text/plain": [
       "FloatProgress(value=0.0, bar_style='info', description='Progress:', layout=Layout(height='25px', width='50%'),…"
      ]
     },
     "metadata": {},
     "output_type": "display_data"
    },
    {
     "name": "stdout",
     "output_type": "stream",
     "text": [
      "root\n",
      " |-- card_type: string (nullable = true)\n",
      " |-- year: integer (nullable = true)\n",
      " |-- month: string (nullable = true)\n",
      " |-- day: integer (nullable = true)\n",
      " |-- hour: integer (nullable = true)\n",
      " |-- weekday: string (nullable = true)\n",
      " |-- atm_number: string (nullable = true)\n",
      " |-- atm_manufacturer: string (nullable = true)\n",
      " |-- weather_loc_id: long (nullable = true)\n",
      " |-- location: string (nullable = true)\n",
      " |-- streetname: string (nullable = true)\n",
      " |-- street_number: integer (nullable = true)\n",
      " |-- zipcode: integer (nullable = true)\n",
      " |-- lat: double (nullable = true)\n",
      " |-- lon: double (nullable = true)\n",
      " |-- atm_status: string (nullable = true)\n",
      " |-- currency: string (nullable = true)\n",
      " |-- transaction_amount: integer (nullable = true)\n",
      " |-- service: string (nullable = true)\n",
      " |-- message_code: string (nullable = true)\n",
      " |-- message_text: string (nullable = true)\n",
      " |-- weather_lat: double (nullable = true)\n",
      " |-- weather_lon: double (nullable = true)\n",
      " |-- weather_city_id: integer (nullable = true)\n",
      " |-- weather_city_name: string (nullable = true)\n",
      " |-- temp: double (nullable = true)\n",
      " |-- pressure: integer (nullable = true)\n",
      " |-- humidity: integer (nullable = true)\n",
      " |-- wind_speed: integer (nullable = true)\n",
      " |-- wind_deg: integer (nullable = true)\n",
      " |-- rain_3h: double (nullable = true)\n",
      " |-- clouds_all: integer (nullable = true)\n",
      " |-- weather_id: integer (nullable = true)\n",
      " |-- weather_main: string (nullable = true)\n",
      " |-- weather_description: string (nullable = true)\n",
      " |-- atm_id: long (nullable = true)\n",
      " |-- date_id: long (nullable = true)\n",
      " |-- full_date_time: timestamp (nullable = true)\n",
      " |-- card_type_id: long (nullable = true)\n",
      "\n",
      "+--------------------+----+-------+---+----+-------+----------+----------------+--------------+--------------+-----------+-------------+-------+------+-----+----------+--------+------------------+----------+------------+------------+-----------+-----------+---------------+-----------------+------+--------+--------+----------+--------+-------+----------+----------+------------+-------------------+------+-------+-------------------+------------+\n",
      "|           card_type|year|  month|day|hour|weekday|atm_number|atm_manufacturer|weather_loc_id|      location| streetname|street_number|zipcode|   lat|  lon|atm_status|currency|transaction_amount|   service|message_code|message_text|weather_lat|weather_lon|weather_city_id|weather_city_name|  temp|pressure|humidity|wind_speed|wind_deg|rain_3h|clouds_all|weather_id|weather_main|weather_description|atm_id|date_id|     full_date_time|card_type_id|\n",
      "+--------------------+----+-------+---+----+-------+----------+----------------+--------------+--------------+-----------+-------------+-------+------+-----+----------+--------+------------------+----------+------------+------------+-----------+-----------+---------------+-----------------+------+--------+--------+----------+--------+-------+----------+----------+------------+-------------------+------+-------+-------------------+------------+\n",
      "|Visa Dankort - on-us|2017|January|  1|   1| Sunday|        29|             NCR|             1|Skelagervej 15|Skelagervej|           15|   9000|57.023|9.891|  Inactive|     DKK|              1837|Withdrawal|        null|        null|     57.048|      9.919|        2624886|          Aalborg|280.64|    1020|      93|         9|     250|   0.59|        92|       500|        Rain|         light rain|   100|   2812|2017-01-01 01:00:00|           0|\n",
      "+--------------------+----+-------+---+----+-------+----------+----------------+--------------+--------------+-----------+-------------+-------+------+-----+----------+--------+------------------+----------+------------+------------+-----------+-----------+---------------+-----------------+------+--------+--------+----------+--------+-------+----------+----------+------------+-------------------+------+-------+-------------------+------------+\n",
      "only showing top 1 row\n",
      "\n",
      "2468572"
     ]
    }
   ],
   "source": [
    "# Validating final fact table\n",
    "#verify schema of card type fact table\n",
    "df_fact_card_type.printSchema() \n",
    "#sanity check for date dimension table\n",
    "df_fact_card_type.show(1) \n",
    "# validating the count of the date dataframe\n",
    "df_fact_card_type.select('*').count()"
   ]
  },
  {
   "cell_type": "markdown",
   "id": "1242a593",
   "metadata": {},
   "source": [
    "##### PK Creation for transaction fact data frame"
   ]
  },
  {
   "cell_type": "code",
   "execution_count": 73,
   "id": "179a9d6f",
   "metadata": {},
   "outputs": [
    {
     "data": {
      "application/vnd.jupyter.widget-view+json": {
       "model_id": "f6e4eb869f134ceba8c2802388414159",
       "version_major": 2,
       "version_minor": 0
      },
      "text/plain": [
       "VBox()"
      ]
     },
     "metadata": {},
     "output_type": "display_data"
    },
    {
     "data": {
      "application/vnd.jupyter.widget-view+json": {
       "model_id": "",
       "version_major": 2,
       "version_minor": 0
      },
      "text/plain": [
       "FloatProgress(value=0.0, bar_style='info', description='Progress:', layout=Layout(height='25px', width='50%'),…"
      ]
     },
     "metadata": {},
     "output_type": "display_data"
    }
   ],
   "source": [
    "# creating primary key of fact table \n",
    "from pyspark.sql.window import Window\n",
    "\n",
    "w = Window().orderBy('date_id')\n",
    "df_fact_trans = df_fact_card_type.withColumn(\"trans_id\", row_number().over(w))"
   ]
  },
  {
   "cell_type": "markdown",
   "id": "1d0f4c8b",
   "metadata": {},
   "source": [
    "##### Cleanup and keep the fields as per target data model"
   ]
  },
  {
   "cell_type": "code",
   "execution_count": 74,
   "id": "d90d795d",
   "metadata": {},
   "outputs": [
    {
     "data": {
      "application/vnd.jupyter.widget-view+json": {
       "model_id": "1388c3b586024e0b92a4eaf9c33b4bdb",
       "version_major": 2,
       "version_minor": 0
      },
      "text/plain": [
       "VBox()"
      ]
     },
     "metadata": {},
     "output_type": "display_data"
    },
    {
     "data": {
      "application/vnd.jupyter.widget-view+json": {
       "model_id": "",
       "version_major": 2,
       "version_minor": 0
      },
      "text/plain": [
       "FloatProgress(value=0.0, bar_style='info', description='Progress:', layout=Layout(height='25px', width='50%'),…"
      ]
     },
     "metadata": {},
     "output_type": "display_data"
    }
   ],
   "source": [
    "# Arranging the required columns according to the target model\n",
    "df_fact_trans = df_fact_trans.select('trans_id', 'atm_id', 'weather_loc_id', 'date_id', 'card_type_id','atm_status', 'currency', 'service', 'transaction_amount', 'message_code', 'message_text', 'rain_3h','clouds_all', 'weather_id', 'weather_main', 'weather_description')"
   ]
  },
  {
   "cell_type": "code",
   "execution_count": 75,
   "id": "ec33e95f",
   "metadata": {},
   "outputs": [
    {
     "data": {
      "application/vnd.jupyter.widget-view+json": {
       "model_id": "d01ffa2f625b4264925b9d37a021178d",
       "version_major": 2,
       "version_minor": 0
      },
      "text/plain": [
       "VBox()"
      ]
     },
     "metadata": {},
     "output_type": "display_data"
    },
    {
     "data": {
      "application/vnd.jupyter.widget-view+json": {
       "model_id": "",
       "version_major": 2,
       "version_minor": 0
      },
      "text/plain": [
       "FloatProgress(value=0.0, bar_style='info', description='Progress:', layout=Layout(height='25px', width='50%'),…"
      ]
     },
     "metadata": {},
     "output_type": "display_data"
    },
    {
     "name": "stdout",
     "output_type": "stream",
     "text": [
      "['trans_id', 'atm_id', 'weather_loc_id', 'date_id', 'card_type_id', 'atm_status', 'currency', 'service', 'transaction_amount', 'message_code', 'message_text', 'rain_3h', 'clouds_all', 'weather_id', 'weather_main', 'weather_description']"
     ]
    }
   ],
   "source": [
    "# Validating name of attributes\n",
    "df_fact_trans.columns"
   ]
  },
  {
   "cell_type": "code",
   "execution_count": 76,
   "id": "7ce539b9",
   "metadata": {},
   "outputs": [
    {
     "data": {
      "application/vnd.jupyter.widget-view+json": {
       "model_id": "57e6297718134cb49f10523cb160229e",
       "version_major": 2,
       "version_minor": 0
      },
      "text/plain": [
       "VBox()"
      ]
     },
     "metadata": {},
     "output_type": "display_data"
    },
    {
     "data": {
      "application/vnd.jupyter.widget-view+json": {
       "model_id": "",
       "version_major": 2,
       "version_minor": 0
      },
      "text/plain": [
       "FloatProgress(value=0.0, bar_style='info', description='Progress:', layout=Layout(height='25px', width='50%'),…"
      ]
     },
     "metadata": {},
     "output_type": "display_data"
    },
    {
     "name": "stdout",
     "output_type": "stream",
     "text": [
      "2468572"
     ]
    }
   ],
   "source": [
    "# Validating count of fact table if they are intact\n",
    "df_fact_trans.select('*').count()"
   ]
  },
  {
   "cell_type": "code",
   "execution_count": 79,
   "id": "9cd39842",
   "metadata": {},
   "outputs": [
    {
     "data": {
      "application/vnd.jupyter.widget-view+json": {
       "model_id": "27289d0b47b3495583ec3ec779dcec45",
       "version_major": 2,
       "version_minor": 0
      },
      "text/plain": [
       "VBox()"
      ]
     },
     "metadata": {},
     "output_type": "display_data"
    },
    {
     "data": {
      "application/vnd.jupyter.widget-view+json": {
       "model_id": "",
       "version_major": 2,
       "version_minor": 0
      },
      "text/plain": [
       "FloatProgress(value=0.0, bar_style='info', description='Progress:', layout=Layout(height='25px', width='50%'),…"
      ]
     },
     "metadata": {},
     "output_type": "display_data"
    }
   ],
   "source": [
    "#Renamed atm location id as per required schema definition\n",
    "df_dim_location_final = df_dim_location_final.withColumnRenamed('atm_location_id','location_id')"
   ]
  },
  {
   "cell_type": "code",
   "execution_count": 80,
   "id": "dd713070",
   "metadata": {},
   "outputs": [
    {
     "data": {
      "application/vnd.jupyter.widget-view+json": {
       "model_id": "5a94f88433a24e63b990ea1730e9e434",
       "version_major": 2,
       "version_minor": 0
      },
      "text/plain": [
       "VBox()"
      ]
     },
     "metadata": {},
     "output_type": "display_data"
    },
    {
     "data": {
      "application/vnd.jupyter.widget-view+json": {
       "model_id": "",
       "version_major": 2,
       "version_minor": 0
      },
      "text/plain": [
       "FloatProgress(value=0.0, bar_style='info', description='Progress:', layout=Layout(height='25px', width='50%'),…"
      ]
     },
     "metadata": {},
     "output_type": "display_data"
    },
    {
     "name": "stdout",
     "output_type": "stream",
     "text": [
      "['location_id', 'location', 'streetname', 'street_number', 'zipcode', 'lat', 'lon']"
     ]
    }
   ],
   "source": [
    "#Validate name of location dimension columns\n",
    "df_dim_location_final.columns"
   ]
  },
  {
   "cell_type": "markdown",
   "id": "bf0551fb",
   "metadata": {},
   "source": [
    "##### Final Step to write data frames into the CSV files in Upgrad S3 bucket created.\n",
    "This will be useful for data analysis using redshift"
   ]
  },
  {
   "cell_type": "code",
   "execution_count": 161,
   "id": "05ef6d14",
   "metadata": {},
   "outputs": [
    {
     "data": {
      "application/vnd.jupyter.widget-view+json": {
       "model_id": "8c75aee73bd4435489f7af01bc21ba2c",
       "version_major": 2,
       "version_minor": 0
      },
      "text/plain": [
       "VBox()"
      ]
     },
     "metadata": {},
     "output_type": "display_data"
    },
    {
     "data": {
      "application/vnd.jupyter.widget-view+json": {
       "model_id": "",
       "version_major": 2,
       "version_minor": 0
      },
      "text/plain": [
       "FloatProgress(value=0.0, bar_style='info', description='Progress:', layout=Layout(height='25px', width='50%'),…"
      ]
     },
     "metadata": {},
     "output_type": "display_data"
    }
   ],
   "source": [
    "df_dim_location_final.coalesce(1).write.format('csv').option('header','false').save('s3://upgradbucket/dim_location', mode='overwrite')\n",
    "df_dim_atm_final.coalesce(1).write.format('csv').option('header','false').save('s3://upgradbucket/dim_atm', mode='overwrite')\n",
    "df_dim_date_final.coalesce(1).write.format('csv').option('header','false').save('s3://upgradbucket/dim_date', mode='overwrite')\n",
    "df_dim_card_type_final.coalesce(1).write.format('csv').option('header','false').save('s3://upgradbucket/dim_card_type', mode='overwrite')\n",
    "df_fact_trans.coalesce(1).write.format('csv').option('header','false').save('s3://upgradbucket/dim_fact_trans', mode='overwrite')"
   ]
  },
  {
   "cell_type": "markdown",
   "id": "2e329c7f",
   "metadata": {},
   "source": [
    "###### Note: Once CSV file creation complete, following steps performed for completion of ETL project\n",
    "    - Validated the files in S3 bucket.\n",
    "    - Redshift cluster is created\n",
    "    - Schema defined in redshift cluster database\n",
    "    - Schema for dimension and fact table created \n",
    "    - Data Loaded on to dimension and fact tables\n",
    "    - Data analytic query performed for derving insights\n",
    "    "
   ]
  },
  {
   "cell_type": "code",
   "execution_count": null,
   "id": "d625c1bd",
   "metadata": {},
   "outputs": [],
   "source": []
  }
 ],
 "metadata": {
  "kernelspec": {
   "display_name": "PySpark",
   "language": "",
   "name": "pysparkkernel"
  },
  "language_info": {
   "codemirror_mode": {
    "name": "python",
    "version": 2
   },
   "mimetype": "text/x-python",
   "name": "pyspark",
   "pygments_lexer": "python2"
  }
 },
 "nbformat": 4,
 "nbformat_minor": 5
}
